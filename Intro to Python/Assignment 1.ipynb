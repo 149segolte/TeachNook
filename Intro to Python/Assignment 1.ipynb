{
  "nbformat": 4,
  "nbformat_minor": 0,
  "metadata": {
    "colab": {
      "provenance": [],
      "authorship_tag": "ABX9TyO0OdL0scuSdE6E1mKUm3iE",
      "include_colab_link": true
    },
    "kernelspec": {
      "name": "python3",
      "display_name": "Python 3"
    },
    "language_info": {
      "name": "python"
    }
  },
  "cells": [
    {
      "cell_type": "markdown",
      "metadata": {
        "id": "view-in-github",
        "colab_type": "text"
      },
      "source": [
        "<a href=\"https://colab.research.google.com/github/149segolte/TeachNook/blob/main/Intro%20to%20Python/Assignment%201.ipynb\" target=\"_parent\"><img src=\"https://colab.research.google.com/assets/colab-badge.svg\" alt=\"Open In Colab\"/></a>"
      ]
    },
    {
      "cell_type": "markdown",
      "source": [
        "Python has 4 built-in collection data structures:"
      ],
      "metadata": {
        "id": "vy6lpCyspkgR"
      }
    },
    {
      "cell_type": "markdown",
      "source": [
        "## List\n",
        "They are ordered and mutable collection of data."
      ],
      "metadata": {
        "id": "1byfN5_8pxt0"
      }
    },
    {
      "cell_type": "code",
      "execution_count": 1,
      "metadata": {
        "id": "AhDYfHofOVIN"
      },
      "outputs": [],
      "source": [
        "mylist1 = [20, 5, 10, 15] # Homogenous\n",
        "mylist2 = [20, 'String', (2, 3), 15.08] # Hetrogenous"
      ]
    },
    {
      "cell_type": "markdown",
      "source": [
        "Accessing list using index:"
      ],
      "metadata": {
        "id": "uvlbtOt9vK6o"
      }
    },
    {
      "cell_type": "code",
      "source": [
        "print(mylist1[0]) # Positive Indexing\n",
        "print(mylist1[-1]) # Negative Indexing"
      ],
      "metadata": {
        "id": "riRBw64ft7qH",
        "outputId": "d4fc640e-41ea-4af1-e378-27cd27549397",
        "colab": {
          "base_uri": "https://localhost:8080/"
        }
      },
      "execution_count": 2,
      "outputs": [
        {
          "output_type": "stream",
          "name": "stdout",
          "text": [
            "20\n",
            "15\n"
          ]
        }
      ]
    },
    {
      "cell_type": "markdown",
      "source": [
        "Adding elements to the list:"
      ],
      "metadata": {
        "id": "uy0CmqszwgHk"
      }
    },
    {
      "cell_type": "code",
      "source": [
        "mylist1.append(30) # using append(value) : adds 'value' to the end\n",
        "print(mylist1)\n",
        "mylist1.insert(2, 'data') # using insert(position, value) : adds 'value' to the 'position'\n",
        "print(mylist1)"
      ],
      "metadata": {
        "id": "2q1V6x4Ewe_5",
        "outputId": "08bbaf37-e464-4238-ef0a-692cd1326425",
        "colab": {
          "base_uri": "https://localhost:8080/"
        }
      },
      "execution_count": 3,
      "outputs": [
        {
          "output_type": "stream",
          "name": "stdout",
          "text": [
            "[20, 5, 10, 15, 30]\n",
            "[20, 5, 'data', 10, 15, 30]\n"
          ]
        }
      ]
    },
    {
      "cell_type": "markdown",
      "source": [
        "Removing elements from the list:"
      ],
      "metadata": {
        "id": "lRDzKpE9yTFc"
      }
    },
    {
      "cell_type": "code",
      "source": [
        "mylist1.remove(3) # removes element from index '3'"
      ],
      "metadata": {
        "id": "opqrezn4yZo6"
      },
      "execution_count": 3,
      "outputs": []
    },
    {
      "cell_type": "markdown",
      "source": [
        "## Tuple\n",
        "They are ordered and im-mutable collection of data."
      ],
      "metadata": {
        "id": "EmCwJ2uIqWsp"
      }
    },
    {
      "cell_type": "code",
      "source": [
        "tup1 = (20, 5, 10, 15) # Homogenous\n",
        "tup2 = (20, 'String', (2, 3), 15.08) # Hetrogenous"
      ],
      "metadata": {
        "id": "cwzi0UF5qkfV"
      },
      "execution_count": 4,
      "outputs": []
    },
    {
      "cell_type": "markdown",
      "source": [
        "## Dictionary\n",
        "They are unordered key:value pairs without indexing."
      ],
      "metadata": {
        "id": "rPVsFqXlqs2q"
      }
    },
    {
      "cell_type": "code",
      "source": [
        "mydict = {'w':20, 'x':5, 'y':10, 'z':15}"
      ],
      "metadata": {
        "id": "Xz6SgPBDqzBg"
      },
      "execution_count": 5,
      "outputs": []
    },
    {
      "cell_type": "markdown",
      "source": [
        "## Set\n",
        "They are unordered, mutable, and iterable data type with no duplicate elements."
      ],
      "metadata": {
        "id": "HHjE5-D8rCOn"
      }
    },
    {
      "cell_type": "code",
      "source": [
        "myset = {20, 5, 10, 15}"
      ],
      "metadata": {
        "id": "F3eBZnlSrIuY"
      },
      "execution_count": 6,
      "outputs": []
    }
  ]
}