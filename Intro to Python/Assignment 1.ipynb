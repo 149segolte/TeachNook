{
  "nbformat": 4,
  "nbformat_minor": 0,
  "metadata": {
    "colab": {
      "provenance": [],
      "authorship_tag": "ABX9TyPm2V1chkpe80F6PyjLhYHj",
      "include_colab_link": true
    },
    "kernelspec": {
      "name": "python3",
      "display_name": "Python 3"
    },
    "language_info": {
      "name": "python"
    }
  },
  "cells": [
    {
      "cell_type": "markdown",
      "metadata": {
        "id": "view-in-github",
        "colab_type": "text"
      },
      "source": [
        "<a href=\"https://colab.research.google.com/github/149segolte/TeachNook/blob/main/Intro%20to%20Python/Assignment%201.ipynb\" target=\"_parent\"><img src=\"https://colab.research.google.com/assets/colab-badge.svg\" alt=\"Open In Colab\"/></a>"
      ]
    },
    {
      "cell_type": "markdown",
      "source": [
        "Python has 4 built-in collection data structures:"
      ],
      "metadata": {
        "id": "vy6lpCyspkgR"
      }
    },
    {
      "cell_type": "markdown",
      "source": [
        "## List\n",
        "They are ordered and mutable collection of data.\n",
        "\n",
        "Operations:\n",
        "- Accessing\n",
        "- Modifying\n",
        "- Adding\n",
        "- Removing"
      ],
      "metadata": {
        "id": "1byfN5_8pxt0"
      }
    },
    {
      "cell_type": "code",
      "execution_count": 1,
      "metadata": {
        "id": "AhDYfHofOVIN",
        "colab": {
          "base_uri": "https://localhost:8080/"
        },
        "outputId": "6d1641f3-5296-4c13-aa01-789983fe27ed"
      },
      "outputs": [
        {
          "output_type": "stream",
          "name": "stdout",
          "text": [
            "[20, 5, 10, 15]\n"
          ]
        }
      ],
      "source": [
        "mylist1 = [20, 5, 10, 15] # Homogenous\n",
        "mylist2 = [20, 'String', (2, 3), 15.08] # Heterogenous\n",
        "\n",
        "mylist3 = [] # Empty\n",
        "\n",
        "print(mylist1)"
      ]
    },
    {
      "cell_type": "markdown",
      "source": [
        "Accessing elements of a list:"
      ],
      "metadata": {
        "id": "uvlbtOt9vK6o"
      }
    },
    {
      "cell_type": "code",
      "source": [
        "print(mylist1[0]) # Positive indexing\n",
        "print(mylist1[-1]) # Negative indexing"
      ],
      "metadata": {
        "colab": {
          "base_uri": "https://localhost:8080/"
        },
        "id": "riRBw64ft7qH",
        "outputId": "d9f1b512-8c8a-4b95-d8c0-9c9db52c85d6"
      },
      "execution_count": 2,
      "outputs": [
        {
          "output_type": "stream",
          "name": "stdout",
          "text": [
            "20\n",
            "15\n"
          ]
        }
      ]
    },
    {
      "cell_type": "markdown",
      "source": [
        "Modifying elements of a list:"
      ],
      "metadata": {
        "id": "M6knbwOn2NDS"
      }
    },
    {
      "cell_type": "code",
      "source": [
        "mylist1[2] = 25\n",
        "print(mylist1)"
      ],
      "metadata": {
        "id": "sl0QP8VY2Rqw",
        "outputId": "60bb0828-b524-451c-ae28-854f51240e48",
        "colab": {
          "base_uri": "https://localhost:8080/"
        }
      },
      "execution_count": 3,
      "outputs": [
        {
          "output_type": "stream",
          "name": "stdout",
          "text": [
            "[20, 5, 25, 15]\n"
          ]
        }
      ]
    },
    {
      "cell_type": "markdown",
      "source": [
        "Adding elements to a list:"
      ],
      "metadata": {
        "id": "uy0CmqszwgHk"
      }
    },
    {
      "cell_type": "code",
      "source": [
        "mylist1.append(30) # using append(value) : adds 'value' to the end\n",
        "print(mylist1)\n",
        "mylist1.insert(2, 'data') # using insert(position, value) : adds 'value' to the 'position'\n",
        "print(mylist1)"
      ],
      "metadata": {
        "colab": {
          "base_uri": "https://localhost:8080/"
        },
        "id": "2q1V6x4Ewe_5",
        "outputId": "7f0d399b-7b00-4371-a347-2a9824ce950d"
      },
      "execution_count": 4,
      "outputs": [
        {
          "output_type": "stream",
          "name": "stdout",
          "text": [
            "[20, 5, 25, 15, 30]\n",
            "[20, 5, 'data', 25, 15, 30]\n"
          ]
        }
      ]
    },
    {
      "cell_type": "markdown",
      "source": [
        "Removing elements from a list:"
      ],
      "metadata": {
        "id": "lRDzKpE9yTFc"
      }
    },
    {
      "cell_type": "code",
      "source": [
        "mylist1.remove('data') # removes first match of 'data' from list\n",
        "print(mylist1)\n",
        "mylist1.clear() # removes all elements in the list\n",
        "print(mylist1)"
      ],
      "metadata": {
        "colab": {
          "base_uri": "https://localhost:8080/"
        },
        "id": "opqrezn4yZo6",
        "outputId": "b82d8b42-5760-4958-a438-31530be81bee"
      },
      "execution_count": 5,
      "outputs": [
        {
          "output_type": "stream",
          "name": "stdout",
          "text": [
            "[20, 5, 25, 15, 30]\n",
            "[]\n"
          ]
        }
      ]
    },
    {
      "cell_type": "markdown",
      "source": [
        "## Tuple\n",
        "They are ordered and im-mutable collection of data.\n",
        "\n",
        "Operations:\n",
        "- Accessing\n",
        "- Joining"
      ],
      "metadata": {
        "id": "EmCwJ2uIqWsp"
      }
    },
    {
      "cell_type": "code",
      "source": [
        "tup1 = (20, 5, 10, 15) # Homogenous\n",
        "tup2 = (20, 'String', (2, 3), 15.08) # Heterogenous\n",
        "\n",
        "tup3 = () # Empty\n",
        "\n",
        "print(tup1)"
      ],
      "metadata": {
        "id": "cwzi0UF5qkfV",
        "colab": {
          "base_uri": "https://localhost:8080/"
        },
        "outputId": "010d5629-f410-4e79-f729-7742ce1893e8"
      },
      "execution_count": 6,
      "outputs": [
        {
          "output_type": "stream",
          "name": "stdout",
          "text": [
            "(20, 5, 10, 15)\n"
          ]
        }
      ]
    },
    {
      "cell_type": "markdown",
      "source": [
        "Accessing the elements of a tuple:"
      ],
      "metadata": {
        "id": "0xgnd07zz_T-"
      }
    },
    {
      "cell_type": "code",
      "source": [
        "print(tup1[2]) # Positive indexing\n",
        "print(tup1[-2]) # Negative indexing\n",
        "\n",
        "a, b, c, d = tup1 # Unpacking in other variables\n",
        "print(a, b, c, d)"
      ],
      "metadata": {
        "id": "lPU9VxJR0Mfw",
        "outputId": "abf4fefa-30bd-49e9-933c-99f3fc30451f",
        "colab": {
          "base_uri": "https://localhost:8080/"
        }
      },
      "execution_count": 7,
      "outputs": [
        {
          "output_type": "stream",
          "name": "stdout",
          "text": [
            "10\n",
            "10\n",
            "20 5 10 15\n"
          ]
        }
      ]
    },
    {
      "cell_type": "markdown",
      "source": [
        "Joining two or more tuples:"
      ],
      "metadata": {
        "id": "LAspSHGh3qo5"
      }
    },
    {
      "cell_type": "code",
      "source": [
        "print(tup1, tup2) # Print seperate tuples\n",
        "print(tup1 + tup2) # Joining the tuples"
      ],
      "metadata": {
        "id": "SB1ozplq0vzy",
        "outputId": "f7d2f529-88c9-4877-e94b-a9ef641d9bce",
        "colab": {
          "base_uri": "https://localhost:8080/"
        }
      },
      "execution_count": 8,
      "outputs": [
        {
          "output_type": "stream",
          "name": "stdout",
          "text": [
            "(20, 5, 10, 15) (20, 'String', (2, 3), 15.08)\n",
            "(20, 5, 10, 15, 20, 'String', (2, 3), 15.08)\n"
          ]
        }
      ]
    },
    {
      "cell_type": "markdown",
      "source": [
        "## Dictionary\n",
        "They are unordered key:value pairs without indexing.\n",
        "\n",
        "Operations:\n",
        "- Accessing\n",
        "- Modifying\n",
        "- Adding\n",
        "- Removing"
      ],
      "metadata": {
        "id": "rPVsFqXlqs2q"
      }
    },
    {
      "cell_type": "code",
      "source": [
        "mydict1 = {'w':20, 'x':5, 'y':10, 'z':15} # Homogenous\n",
        "mydict2 = {'w':20, 5:['x', 'y'], (2, 3):10.34, 3.14:'pi'} # Heterogenous\n",
        "\n",
        "mydict3 = {} # Empty\n",
        "\n",
        "print(mydict1)"
      ],
      "metadata": {
        "id": "Xz6SgPBDqzBg",
        "colab": {
          "base_uri": "https://localhost:8080/"
        },
        "outputId": "6f659f5b-5c4d-4d20-8619-11b8141cf68d"
      },
      "execution_count": 9,
      "outputs": [
        {
          "output_type": "stream",
          "name": "stdout",
          "text": [
            "{'w': 20, 'x': 5, 'y': 10, 'z': 15}\n"
          ]
        }
      ]
    },
    {
      "cell_type": "markdown",
      "source": [
        "Accessing elements of a dictionary:"
      ],
      "metadata": {
        "id": "Tu4pFptd6WBL"
      }
    },
    {
      "cell_type": "code",
      "source": [
        "print(mydict1['x'])"
      ],
      "metadata": {
        "id": "HUPu9hJ66Zgz",
        "outputId": "e00a1b1a-2c94-4745-e9be-6e5095137ed5",
        "colab": {
          "base_uri": "https://localhost:8080/"
        }
      },
      "execution_count": 10,
      "outputs": [
        {
          "output_type": "stream",
          "name": "stdout",
          "text": [
            "5\n"
          ]
        }
      ]
    },
    {
      "cell_type": "markdown",
      "source": [
        "Modifying elements in a dictionary:"
      ],
      "metadata": {
        "id": "nCIIieVK5KPZ"
      }
    },
    {
      "cell_type": "code",
      "source": [
        "mydict1['w'] = 'test'\n",
        "print(mydict1)"
      ],
      "metadata": {
        "id": "837Vt0Hv6LWD",
        "outputId": "c0101943-b7de-48cc-f45b-b709d61f76a8",
        "colab": {
          "base_uri": "https://localhost:8080/"
        }
      },
      "execution_count": 11,
      "outputs": [
        {
          "output_type": "stream",
          "name": "stdout",
          "text": [
            "{'w': 'test', 'x': 5, 'y': 10, 'z': 15}\n"
          ]
        }
      ]
    },
    {
      "cell_type": "markdown",
      "source": [
        "Adding elements to a dictionary:"
      ],
      "metadata": {
        "id": "Slzrd5e86wtS"
      }
    },
    {
      "cell_type": "code",
      "source": [
        "mydict1['key'] = 'value'\n",
        "print(mydict1)"
      ],
      "metadata": {
        "id": "pk8TRRUy6s_5",
        "outputId": "256bfd0d-16c6-4afc-83fe-819caf674588",
        "colab": {
          "base_uri": "https://localhost:8080/"
        }
      },
      "execution_count": 12,
      "outputs": [
        {
          "output_type": "stream",
          "name": "stdout",
          "text": [
            "{'w': 'test', 'x': 5, 'y': 10, 'z': 15, 'key': 'value'}\n"
          ]
        }
      ]
    },
    {
      "cell_type": "markdown",
      "source": [
        "Removing elements from a dictionary:"
      ],
      "metadata": {
        "id": "MBw-HmfC7CDZ"
      }
    },
    {
      "cell_type": "code",
      "source": [
        "mydict1.pop('w') # Removes the pair with key 'w'\n",
        "print(mydict1)\n",
        "mydict1.clear() # Removes all elements in the dictionary\n",
        "print(mydict1)"
      ],
      "metadata": {
        "id": "3gEQrIcv7FxK",
        "outputId": "96b1b52e-3ee2-4cf8-9144-90e05ce2054b",
        "colab": {
          "base_uri": "https://localhost:8080/"
        }
      },
      "execution_count": 13,
      "outputs": [
        {
          "output_type": "stream",
          "name": "stdout",
          "text": [
            "{'x': 5, 'y': 10, 'z': 15, 'key': 'value'}\n",
            "{}\n"
          ]
        }
      ]
    },
    {
      "cell_type": "markdown",
      "source": [
        "## Set\n",
        "They are unordered, mutable, and iterable data type with no duplicate elements.\n",
        "\n",
        "Operations:\n",
        "- Adding\n",
        "- Combining\n",
        "- Removing"
      ],
      "metadata": {
        "id": "-N5rLdxg8Jyd"
      }
    },
    {
      "cell_type": "code",
      "source": [
        "myset1 = {20, 5, 10, 15, 10} # Homogenous\n",
        "myset2 = {20, 5.342, (10, 'x'), 15} # Heterogenous\n",
        "\n",
        "myset3 = set() # Empty\n",
        "\n",
        "print(myset1)"
      ],
      "metadata": {
        "id": "F3eBZnlSrIuY",
        "colab": {
          "base_uri": "https://localhost:8080/"
        },
        "outputId": "80821530-88cf-4ea4-e41f-5e8adee54526"
      },
      "execution_count": 14,
      "outputs": [
        {
          "output_type": "stream",
          "name": "stdout",
          "text": [
            "{10, 20, 5, 15}\n"
          ]
        }
      ]
    },
    {
      "cell_type": "markdown",
      "source": [
        "Adding elements to a set:"
      ],
      "metadata": {
        "id": "67inM7xg953G"
      }
    },
    {
      "cell_type": "code",
      "source": [
        "myset1.add('test')\n",
        "print(myset1) # No duplication"
      ],
      "metadata": {
        "colab": {
          "base_uri": "https://localhost:8080/"
        },
        "id": "NDn0G_mY985C",
        "outputId": "f0c60e22-0382-4f92-f2cb-b977241e5a4b"
      },
      "execution_count": 15,
      "outputs": [
        {
          "output_type": "stream",
          "name": "stdout",
          "text": [
            "{5, 10, 15, 20, 'test'}\n"
          ]
        }
      ]
    },
    {
      "cell_type": "markdown",
      "source": [
        "Combining two or more sets:"
      ],
      "metadata": {
        "id": "Ljrd6zcj-u2z"
      }
    },
    {
      "cell_type": "code",
      "source": [
        "print(myset1.union(myset2)) # Combining all elements that exist in any sets\n",
        "print(myset1.intersection(myset2)) # Combining all elements that exist in both sets"
      ],
      "metadata": {
        "colab": {
          "base_uri": "https://localhost:8080/"
        },
        "id": "7OpBEJfm-x1O",
        "outputId": "190987fa-7003-4bdb-ad98-1773f69a63cd"
      },
      "execution_count": 16,
      "outputs": [
        {
          "output_type": "stream",
          "name": "stdout",
          "text": [
            "{5, 5.342, 10, 15, 20, 'test', (10, 'x')}\n",
            "{20, 15}\n"
          ]
        }
      ]
    },
    {
      "cell_type": "markdown",
      "source": [
        "Removing elements from a set:"
      ],
      "metadata": {
        "id": "VEan2PZr-Mos"
      }
    },
    {
      "cell_type": "code",
      "source": [
        "myset1.remove('test') # Removes element 'test' from the set\n",
        "print(myset1)\n",
        "myset1.clear() # Removes all elements from the set\n",
        "print(myset1)"
      ],
      "metadata": {
        "colab": {
          "base_uri": "https://localhost:8080/"
        },
        "id": "IbiUeue--QRE",
        "outputId": "aa2b2165-b0fb-49bb-e317-7e2c72f306dd"
      },
      "execution_count": 17,
      "outputs": [
        {
          "output_type": "stream",
          "name": "stdout",
          "text": [
            "{5, 10, 15, 20}\n",
            "set()\n"
          ]
        }
      ]
    }
  ]
}