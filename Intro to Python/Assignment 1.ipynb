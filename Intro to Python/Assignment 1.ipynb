{
  "nbformat": 4,
  "nbformat_minor": 0,
  "metadata": {
    "colab": {
      "provenance": [],
      "authorship_tag": "ABX9TyMXyzC6Vy0PIQgFFyPSF6h9",
      "include_colab_link": true
    },
    "kernelspec": {
      "name": "python3",
      "display_name": "Python 3"
    },
    "language_info": {
      "name": "python"
    }
  },
  "cells": [
    {
      "cell_type": "markdown",
      "metadata": {
        "id": "view-in-github",
        "colab_type": "text"
      },
      "source": [
        "<a href=\"https://colab.research.google.com/github/149segolte/TeachNook/blob/main/Intro%20to%20Python/Assignment%201.ipynb\" target=\"_parent\"><img src=\"https://colab.research.google.com/assets/colab-badge.svg\" alt=\"Open In Colab\"/></a>"
      ]
    },
    {
      "cell_type": "markdown",
      "source": [
        "Python has 4 built-in collection data structures:"
      ],
      "metadata": {
        "id": "vy6lpCyspkgR"
      }
    },
    {
      "cell_type": "markdown",
      "source": [
        "## List\n",
        "They are ordered and mutable collection of data.\n",
        "\n",
        "Operations:\n",
        "- Accessing\n",
        "- Modifying\n",
        "- Adding\n",
        "- Removing"
      ],
      "metadata": {
        "id": "1byfN5_8pxt0"
      }
    },
    {
      "cell_type": "code",
      "execution_count": 1,
      "metadata": {
        "id": "AhDYfHofOVIN"
      },
      "outputs": [],
      "source": [
        "mylist1 = [20, 5, 10, 15] # Homogenous\n",
        "mylist2 = [20, 'String', (2, 3), 15.08] # Hetrogenous\n",
        "\n",
        "mylist3 = [] # Empty"
      ]
    },
    {
      "cell_type": "markdown",
      "source": [
        "Accessing elements of a list:"
      ],
      "metadata": {
        "id": "uvlbtOt9vK6o"
      }
    },
    {
      "cell_type": "code",
      "source": [
        "print(mylist1[0]) # Positive indexing\n",
        "print(mylist1[-1]) # Negative indexing"
      ],
      "metadata": {
        "colab": {
          "base_uri": "https://localhost:8080/"
        },
        "id": "riRBw64ft7qH",
        "outputId": "4685bbf6-3cf0-4759-fdf9-93d4bb568306"
      },
      "execution_count": 2,
      "outputs": [
        {
          "output_type": "stream",
          "name": "stdout",
          "text": [
            "20\n",
            "15\n"
          ]
        }
      ]
    },
    {
      "cell_type": "markdown",
      "source": [
        "Modifying elements of a list:"
      ],
      "metadata": {
        "id": "M6knbwOn2NDS"
      }
    },
    {
      "cell_type": "code",
      "source": [
        "mylist1[2] = 25\n",
        "print(mylist1)"
      ],
      "metadata": {
        "id": "sl0QP8VY2Rqw",
        "outputId": "4d3a1600-4857-41bc-a79b-d3f931c71ad9",
        "colab": {
          "base_uri": "https://localhost:8080/"
        }
      },
      "execution_count": 3,
      "outputs": [
        {
          "output_type": "stream",
          "name": "stdout",
          "text": [
            "[20, 5, 25, 15]\n"
          ]
        }
      ]
    },
    {
      "cell_type": "markdown",
      "source": [
        "Adding elements to a list:"
      ],
      "metadata": {
        "id": "uy0CmqszwgHk"
      }
    },
    {
      "cell_type": "code",
      "source": [
        "mylist1.append(30) # using append(value) : adds 'value' to the end\n",
        "print(mylist1)\n",
        "mylist1.insert(2, 'data') # using insert(position, value) : adds 'value' to the 'position'\n",
        "print(mylist1)"
      ],
      "metadata": {
        "colab": {
          "base_uri": "https://localhost:8080/"
        },
        "id": "2q1V6x4Ewe_5",
        "outputId": "e1adddae-18dc-4947-a334-259dd8827e90"
      },
      "execution_count": 4,
      "outputs": [
        {
          "output_type": "stream",
          "name": "stdout",
          "text": [
            "[20, 5, 25, 15, 30]\n",
            "[20, 5, 'data', 25, 15, 30]\n"
          ]
        }
      ]
    },
    {
      "cell_type": "markdown",
      "source": [
        "Removing elements from a list:"
      ],
      "metadata": {
        "id": "lRDzKpE9yTFc"
      }
    },
    {
      "cell_type": "code",
      "source": [
        "mylist1.remove('data') # removes first match of 'data' from list\n",
        "print(mylist1)\n",
        "mylist1.clear() # removes all elements in the list\n",
        "print(mylist1)"
      ],
      "metadata": {
        "colab": {
          "base_uri": "https://localhost:8080/"
        },
        "id": "opqrezn4yZo6",
        "outputId": "a1193cec-0db6-4ded-c719-4c9429e696b6"
      },
      "execution_count": 5,
      "outputs": [
        {
          "output_type": "stream",
          "name": "stdout",
          "text": [
            "[20, 5, 25, 15, 30]\n",
            "[]\n"
          ]
        }
      ]
    },
    {
      "cell_type": "markdown",
      "source": [
        "## Tuple\n",
        "They are ordered and im-mutable collection of data.\n",
        "\n",
        "Operations:\n",
        "- Accessing\n",
        "- Joining"
      ],
      "metadata": {
        "id": "EmCwJ2uIqWsp"
      }
    },
    {
      "cell_type": "code",
      "source": [
        "tup1 = (20, 5, 10, 15) # Homogenous\n",
        "tup2 = (20, 'String', (2, 3), 15.08) # Hetrogenous\n",
        "\n",
        "tup3 = () # Empty"
      ],
      "metadata": {
        "id": "cwzi0UF5qkfV"
      },
      "execution_count": 6,
      "outputs": []
    },
    {
      "cell_type": "markdown",
      "source": [
        "Accessing the elements of a tuple:"
      ],
      "metadata": {
        "id": "0xgnd07zz_T-"
      }
    },
    {
      "cell_type": "code",
      "source": [
        "print(tup1[2]) # Positive indexing\n",
        "print(tup1[-2]) # Negative indexing\n",
        "\n",
        "a, b, c, d = tup1 # Unpacking in other variables\n",
        "print(a, b, c, d)"
      ],
      "metadata": {
        "id": "lPU9VxJR0Mfw",
        "outputId": "c5c13af2-e58e-40b1-8933-6858af854a26",
        "colab": {
          "base_uri": "https://localhost:8080/"
        }
      },
      "execution_count": 7,
      "outputs": [
        {
          "output_type": "stream",
          "name": "stdout",
          "text": [
            "10\n",
            "10\n",
            "20 5 10 15\n"
          ]
        }
      ]
    },
    {
      "cell_type": "markdown",
      "source": [
        "Joining two or more tuples:"
      ],
      "metadata": {
        "id": "LAspSHGh3qo5"
      }
    },
    {
      "cell_type": "code",
      "source": [
        "print(tup1, tup2) # Print seperate tuples\n",
        "print(tup1 + tup2) # Joining the tuples"
      ],
      "metadata": {
        "id": "SB1ozplq0vzy",
        "outputId": "2ae0b1ab-55c9-4de4-df4b-1fb31da3d58b",
        "colab": {
          "base_uri": "https://localhost:8080/"
        }
      },
      "execution_count": 8,
      "outputs": [
        {
          "output_type": "stream",
          "name": "stdout",
          "text": [
            "(20, 5, 10, 15) (20, 'String', (2, 3), 15.08)\n",
            "(20, 5, 10, 15, 20, 'String', (2, 3), 15.08)\n"
          ]
        }
      ]
    },
    {
      "cell_type": "markdown",
      "source": [
        "## Dictionary\n",
        "They are unordered key:value pairs without indexing.\n",
        "\n",
        "Operations:\n",
        "- Accessing\n",
        "- Modifying\n",
        "- Adding\n",
        "- Removing"
      ],
      "metadata": {
        "id": "rPVsFqXlqs2q"
      }
    },
    {
      "cell_type": "code",
      "source": [
        "mydict1 = {'w':20, 'x':5, 'y':10, 'z':15} # Fixed data types of keys and values\n",
        "mydict2 = {'w':20, 5:['x', 'y'], (2, 3):10.34, 3.14:'pi'} # Different data types for keys and values\n",
        "\n",
        "mydict3 = {} # Empty"
      ],
      "metadata": {
        "id": "Xz6SgPBDqzBg"
      },
      "execution_count": 9,
      "outputs": []
    },
    {
      "cell_type": "markdown",
      "source": [
        "Accessing elements of a dictionary:"
      ],
      "metadata": {
        "id": "Tu4pFptd6WBL"
      }
    },
    {
      "cell_type": "code",
      "source": [
        "print(mydict1['x'])"
      ],
      "metadata": {
        "id": "HUPu9hJ66Zgz",
        "outputId": "a362d145-46bb-498e-e849-a198b3742132",
        "colab": {
          "base_uri": "https://localhost:8080/"
        }
      },
      "execution_count": 10,
      "outputs": [
        {
          "output_type": "stream",
          "name": "stdout",
          "text": [
            "5\n"
          ]
        }
      ]
    },
    {
      "cell_type": "markdown",
      "source": [
        "Modifying elements in a dictionary:"
      ],
      "metadata": {
        "id": "nCIIieVK5KPZ"
      }
    },
    {
      "cell_type": "code",
      "source": [
        "mydict1['w'] = 'test'\n",
        "print(mydict1)"
      ],
      "metadata": {
        "id": "837Vt0Hv6LWD",
        "outputId": "9a078fff-66a0-49a1-9941-b4775df2b960",
        "colab": {
          "base_uri": "https://localhost:8080/"
        }
      },
      "execution_count": 11,
      "outputs": [
        {
          "output_type": "stream",
          "name": "stdout",
          "text": [
            "{'w': 'test', 'x': 5, 'y': 10, 'z': 15}\n"
          ]
        }
      ]
    },
    {
      "cell_type": "markdown",
      "source": [
        "Adding elements to a dictionary:"
      ],
      "metadata": {
        "id": "Slzrd5e86wtS"
      }
    },
    {
      "cell_type": "code",
      "source": [
        "mydict1['key'] = 'value'\n",
        "print(mydict1)"
      ],
      "metadata": {
        "id": "pk8TRRUy6s_5",
        "outputId": "1d53b1a4-1745-4484-f218-383f2a3c7c9a",
        "colab": {
          "base_uri": "https://localhost:8080/"
        }
      },
      "execution_count": 12,
      "outputs": [
        {
          "output_type": "stream",
          "name": "stdout",
          "text": [
            "{'w': 'test', 'x': 5, 'y': 10, 'z': 15, 'key': 'value'}\n"
          ]
        }
      ]
    },
    {
      "cell_type": "markdown",
      "source": [
        "Removing elements from a dictionary:"
      ],
      "metadata": {
        "id": "MBw-HmfC7CDZ"
      }
    },
    {
      "cell_type": "code",
      "source": [
        "mydict1.pop('w') # Removes the pair with key 'w'\n",
        "print(mydict1)\n",
        "mydict1.clear() # Removes all elements in the dictionary\n",
        "print(mydict1)"
      ],
      "metadata": {
        "id": "3gEQrIcv7FxK",
        "outputId": "080cc434-f0e7-4e58-f493-f48e68baf89a",
        "colab": {
          "base_uri": "https://localhost:8080/"
        }
      },
      "execution_count": 13,
      "outputs": [
        {
          "output_type": "stream",
          "name": "stdout",
          "text": [
            "{'x': 5, 'y': 10, 'z': 15, 'key': 'value'}\n",
            "{}\n"
          ]
        }
      ]
    },
    {
      "cell_type": "markdown",
      "source": [
        "## Set\n",
        "They are unordered, mutable, and iterable data type with no duplicate elements."
      ],
      "metadata": {
        "id": "HHjE5-D8rCOn"
      }
    },
    {
      "cell_type": "code",
      "source": [
        "myset = {20, 5, 10, 15}"
      ],
      "metadata": {
        "id": "F3eBZnlSrIuY"
      },
      "execution_count": 14,
      "outputs": []
    }
  ]
}