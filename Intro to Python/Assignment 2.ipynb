{
  "nbformat": 4,
  "nbformat_minor": 0,
  "metadata": {
    "colab": {
      "provenance": [],
      "authorship_tag": "ABX9TyN2j1fTbzq+Li4R0zQ8c8cJ",
      "include_colab_link": true
    },
    "kernelspec": {
      "name": "python3",
      "display_name": "Python 3"
    },
    "language_info": {
      "name": "python"
    }
  },
  "cells": [
    {
      "cell_type": "markdown",
      "metadata": {
        "id": "view-in-github",
        "colab_type": "text"
      },
      "source": [
        "<a href=\"https://colab.research.google.com/github/149segolte/TeachNook/blob/main/Intro%20to%20Python/Assignment%202.ipynb\" target=\"_parent\"><img src=\"https://colab.research.google.com/assets/colab-badge.svg\" alt=\"Open In Colab\"/></a>"
      ]
    },
    {
      "cell_type": "markdown",
      "source": [
        "# Slicing\n",
        "\n",
        "In python, any sequence type can be sliced. You can use the slicing notation:\n",
        "\n",
        "```\n",
        "seq[start:stop]\n",
        "```"
      ],
      "metadata": {
        "id": "ylSauivDlMlj"
      }
    },
    {
      "cell_type": "markdown",
      "source": [
        "The above slice selects elements starting at the index 'start' and stopping at the index 'stop' (excluding the element at the index stop).\n",
        "\n",
        "In other words, it returns all elements of the sequence at the index n where n satisfies the following expression:\n",
        "\n",
        "```\n",
        "start <= n < stop\n",
        "```"
      ],
      "metadata": {
        "id": "7QF6nP4hlUCZ"
      }
    },
    {
      "cell_type": "markdown",
      "source": [
        "When start or stop is greater than the length of the sequence, Python uses `len(seq)` for the start or stop.\n",
        "\n",
        "Both start and stop are optional. The start defaults to `0` and stop defaults to `len(seq)` when you don’t specify it.\n",
        "\n",
        "The following example returns the entire list:"
      ],
      "metadata": {
        "id": "MQ1oYMCdlZ1j"
      }
    },
    {
      "cell_type": "code",
      "source": [
        "colors = ['red', 'green', 'blue', 'orange']\n",
        "print(colors[0:100])"
      ],
      "metadata": {
        "id": "vnb4ZVCelcH0",
        "outputId": "908db880-532f-4d4b-af99-5cfca9ae9c62",
        "colab": {
          "base_uri": "https://localhost:8080/"
        }
      },
      "execution_count": 1,
      "outputs": [
        {
          "output_type": "stream",
          "name": "stdout",
          "text": [
            "['red', 'green', 'blue', 'orange']\n"
          ]
        }
      ]
    },
    {
      "cell_type": "markdown",
      "source": [
        "Since the stop bound is `100`, Python uses the `len(colors)` for the stop bound.\n",
        "\n",
        "The following example returns an empty list:"
      ],
      "metadata": {
        "id": "fDWV8g-AlfPJ"
      }
    },
    {
      "cell_type": "code",
      "source": [
        "print(colors[10:])"
      ],
      "metadata": {
        "id": "0mLPmTjwlhYB",
        "outputId": "fa0a6ecc-6dc6-4bfe-de27-57cc389921ef",
        "colab": {
          "base_uri": "https://localhost:8080/"
        }
      },
      "execution_count": 2,
      "outputs": [
        {
          "output_type": "stream",
          "name": "stdout",
          "text": [
            "[]\n"
          ]
        }
      ]
    },
    {
      "cell_type": "markdown",
      "source": [
        "Because the start is `10`, Python assigns the `len(colors)` to it."
      ],
      "metadata": {
        "id": "f0cI54nyljwA"
      }
    },
    {
      "cell_type": "markdown",
      "source": [
        "## Negative start and stop bounds\n",
        "\n",
        "The slice object also accepts negative start and stop bounds. The following example uses the negative start and stop bounds to slice a list:"
      ],
      "metadata": {
        "id": "23nyAIkCl3Vz"
      }
    },
    {
      "cell_type": "code",
      "source": [
        "print(colors[-4:-2])"
      ],
      "metadata": {
        "id": "8wgGaorSl5Of",
        "outputId": "fa8df612-b867-4604-bc7e-f52cea42dfce",
        "colab": {
          "base_uri": "https://localhost:8080/"
        }
      },
      "execution_count": 3,
      "outputs": [
        {
          "output_type": "stream",
          "name": "stdout",
          "text": [
            "['red', 'green']\n"
          ]
        }
      ]
    },
    {
      "cell_type": "markdown",
      "source": [
        "To get the 'blue' and 'orange' elements from the colors list, you can combine the negative and positive bounds:"
      ],
      "metadata": {
        "id": "xUdc3tAhl7UK"
      }
    },
    {
      "cell_type": "code",
      "source": [
        "print(colors[-2:4])"
      ],
      "metadata": {
        "id": "cKDhAUMml9XB",
        "outputId": "73f4a15c-d367-405c-d5a4-76cfc1dc40a7",
        "colab": {
          "base_uri": "https://localhost:8080/"
        }
      },
      "execution_count": 4,
      "outputs": [
        {
          "output_type": "stream",
          "name": "stdout",
          "text": [
            "['blue', 'orange']\n"
          ]
        }
      ]
    },
    {
      "cell_type": "markdown",
      "source": [
        "## The step value\n",
        "\n",
        "Slices support the third argument, which is the step value. The step value defaults to `1` if you don’t specify it:\n",
        "\n",
        "```\n",
        "seq[star:stop:step]\n",
        "```"
      ],
      "metadata": {
        "id": "0PGibGSUjnlj"
      }
    },
    {
      "cell_type": "code",
      "source": [
        "print(colors[0:4:2])"
      ],
      "metadata": {
        "id": "PMZ6dihvmmlG",
        "outputId": "114afd75-7ea3-485e-d244-53312fd226ed",
        "colab": {
          "base_uri": "https://localhost:8080/"
        }
      },
      "execution_count": 5,
      "outputs": [
        {
          "output_type": "stream",
          "name": "stdout",
          "text": [
            "['red', 'blue']\n"
          ]
        }
      ]
    }
  ]
}